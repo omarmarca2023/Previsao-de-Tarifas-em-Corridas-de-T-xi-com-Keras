{
 "cells": [
  {
   "cell_type": "markdown",
   "metadata": {},
   "source": [
    "# Previsão de Tarifas em Corridas de Táxi com Keras"
   ]
  },
  {
   "cell_type": "markdown",
   "metadata": {},
   "source": [
    "- O problema que abordaremos é idêntico ao que foi apresentado no projeto [Previsão de Tarifas em Corridas de Táxi](https://medium.com/@omarca2015c/previsão-de-tarifas-em-corridas-de-táxi-911506cc1117), utilizando o mesmo conjunto de dados que contém 150000 linhas."
   ]
  },
  {
   "cell_type": "markdown",
   "metadata": {},
   "source": [
    "## 1. Problema de Negócio"
   ]
  },
  {
   "cell_type": "markdown",
   "metadata": {},
   "source": [
    "- Imagine que você trabalha para uma empresa de táxi e que uma das maiores reclamações de seus clientes é que eles não sabem quanto custará uma corrida até que ela termine.Isso porque a distância é apenas um dos vários fatores a partir dos quais as tarifas de táxi são calculadas.\n",
    "\n",
    "\n",
    "- Neste contexto, adotaremos uma rede neural como nosso modelo de regressão para efetuar essas previsões."
   ]
  },
  {
   "cell_type": "markdown",
   "metadata": {},
   "source": [
    "## 2. Importar bibliotecas e conjunto de dados"
   ]
  },
  {
   "cell_type": "code",
   "execution_count": 1,
   "metadata": {
    "colab": {
     "base_uri": "https://localhost:8080/",
     "height": 276
    },
    "id": "6GR2Pd1sTaZV",
    "outputId": "2831f5bb-c4b5-455b-9363-b46b479eac72"
   },
   "outputs": [
    {
     "data": {
      "text/html": [
       "<div>\n",
       "<style scoped>\n",
       "    .dataframe tbody tr th:only-of-type {\n",
       "        vertical-align: middle;\n",
       "    }\n",
       "\n",
       "    .dataframe tbody tr th {\n",
       "        vertical-align: top;\n",
       "    }\n",
       "\n",
       "    .dataframe thead th {\n",
       "        text-align: right;\n",
       "    }\n",
       "</style>\n",
       "<table border=\"1\" class=\"dataframe\">\n",
       "  <thead>\n",
       "    <tr style=\"text-align: right;\">\n",
       "      <th></th>\n",
       "      <th>key</th>\n",
       "      <th>fare_amount</th>\n",
       "      <th>pickup_datetime</th>\n",
       "      <th>pickup_longitude</th>\n",
       "      <th>pickup_latitude</th>\n",
       "      <th>dropoff_longitude</th>\n",
       "      <th>dropoff_latitude</th>\n",
       "      <th>passenger_count</th>\n",
       "    </tr>\n",
       "  </thead>\n",
       "  <tbody>\n",
       "    <tr>\n",
       "      <th>0</th>\n",
       "      <td>2009-06-15 17:26:21.0000001</td>\n",
       "      <td>4.5</td>\n",
       "      <td>2009-06-15 17:26:21+00:00</td>\n",
       "      <td>-73.844311</td>\n",
       "      <td>40.721319</td>\n",
       "      <td>-73.841610</td>\n",
       "      <td>40.712278</td>\n",
       "      <td>1</td>\n",
       "    </tr>\n",
       "    <tr>\n",
       "      <th>1</th>\n",
       "      <td>2010-01-05 16:52:16.0000002</td>\n",
       "      <td>16.9</td>\n",
       "      <td>2010-01-05 16:52:16+00:00</td>\n",
       "      <td>-74.016048</td>\n",
       "      <td>40.711303</td>\n",
       "      <td>-73.979268</td>\n",
       "      <td>40.782004</td>\n",
       "      <td>1</td>\n",
       "    </tr>\n",
       "    <tr>\n",
       "      <th>2</th>\n",
       "      <td>2011-08-18 00:35:00.00000049</td>\n",
       "      <td>5.7</td>\n",
       "      <td>2011-08-18 00:35:00+00:00</td>\n",
       "      <td>-73.982738</td>\n",
       "      <td>40.761270</td>\n",
       "      <td>-73.991242</td>\n",
       "      <td>40.750562</td>\n",
       "      <td>2</td>\n",
       "    </tr>\n",
       "    <tr>\n",
       "      <th>3</th>\n",
       "      <td>2012-04-21 04:30:42.0000001</td>\n",
       "      <td>7.7</td>\n",
       "      <td>2012-04-21 04:30:42+00:00</td>\n",
       "      <td>-73.987130</td>\n",
       "      <td>40.733143</td>\n",
       "      <td>-73.991567</td>\n",
       "      <td>40.758092</td>\n",
       "      <td>1</td>\n",
       "    </tr>\n",
       "    <tr>\n",
       "      <th>4</th>\n",
       "      <td>2010-03-09 07:51:00.000000135</td>\n",
       "      <td>5.3</td>\n",
       "      <td>2010-03-09 07:51:00+00:00</td>\n",
       "      <td>-73.968095</td>\n",
       "      <td>40.768008</td>\n",
       "      <td>-73.956655</td>\n",
       "      <td>40.783762</td>\n",
       "      <td>1</td>\n",
       "    </tr>\n",
       "  </tbody>\n",
       "</table>\n",
       "</div>"
      ],
      "text/plain": [
       "                             key  fare_amount           pickup_datetime  \\\n",
       "0    2009-06-15 17:26:21.0000001          4.5 2009-06-15 17:26:21+00:00   \n",
       "1    2010-01-05 16:52:16.0000002         16.9 2010-01-05 16:52:16+00:00   \n",
       "2   2011-08-18 00:35:00.00000049          5.7 2011-08-18 00:35:00+00:00   \n",
       "3    2012-04-21 04:30:42.0000001          7.7 2012-04-21 04:30:42+00:00   \n",
       "4  2010-03-09 07:51:00.000000135          5.3 2010-03-09 07:51:00+00:00   \n",
       "\n",
       "   pickup_longitude  pickup_latitude  dropoff_longitude  dropoff_latitude  \\\n",
       "0        -73.844311        40.721319         -73.841610         40.712278   \n",
       "1        -74.016048        40.711303         -73.979268         40.782004   \n",
       "2        -73.982738        40.761270         -73.991242         40.750562   \n",
       "3        -73.987130        40.733143         -73.991567         40.758092   \n",
       "4        -73.968095        40.768008         -73.956655         40.783762   \n",
       "\n",
       "   passenger_count  \n",
       "0                1  \n",
       "1                1  \n",
       "2                2  \n",
       "3                1  \n",
       "4                1  "
      ]
     },
     "execution_count": 1,
     "metadata": {},
     "output_type": "execute_result"
    }
   ],
   "source": [
    "import pandas as pd\n",
    "import numpy as np\n",
    "import matplotlib.pyplot as plt\n",
    "import seaborn as sns\n",
    "from math import sqrt\n",
    "\n",
    "df = pd.read_csv('taxi_tarifas.csv')\n",
    "\n",
    "df['pickup_datetime'] = pd.to_datetime(df['pickup_datetime']) # conversão da variável pickup_datetime para datetime\n",
    "\n",
    "df.head()"
   ]
  },
  {
   "cell_type": "markdown",
   "metadata": {},
   "source": [
    "### Metadados:\n",
    "\n",
    ">  - key: deve ser usado apenas como um campo de ID exclusivo\n",
    ">  - fare_amount: valor em dólares do custo da corrida de táxi (target)\n",
    ">  - pickup_datetime: data/hora que indica quando a corrida de táxi começou\n",
    ">  - pickup_longitude: coordenada de longitude de onde a corrida de táxi começou\n",
    ">  - pickup_latitude: coordenada de latitude de onde a corrida de táxi começou\n",
    ">  - dropoff_longitude: coordenada de longitude de onde a corrida de táxi terminou  \n",
    ">  - dropoff_latitude: coordenada de latitude de onde a corrida de táxi terminou\n",
    ">  - passenger_count: número de passageiros na corrida de táxi"
   ]
  },
  {
   "cell_type": "markdown",
   "metadata": {},
   "source": [
    "## 3. Pré-processamento "
   ]
  },
  {
   "cell_type": "markdown",
   "metadata": {},
   "source": [
    "- Os dados requerem de preparação  antes de se tornarem úteis, o que é uma prática comum tanto em aprendizado de máquina quanto em aprendizado profundo. Para realizar essa preparação, utilizaremos as seguintes declarações, conforme detalhado no projeto [Previsão de Tarifas em Corridas de Táxi](https://medium.com/@omarca2015c/previsão-de-tarifas-em-corridas-de-táxi-911506cc1117), a fim de transformar o conjunto de dados bruto em um formato adequado para treinamento."
   ]
  },
  {
   "cell_type": "code",
   "execution_count": 2,
   "metadata": {},
   "outputs": [
    {
     "data": {
      "text/html": [
       "<div>\n",
       "<style scoped>\n",
       "    .dataframe tbody tr th:only-of-type {\n",
       "        vertical-align: middle;\n",
       "    }\n",
       "\n",
       "    .dataframe tbody tr th {\n",
       "        vertical-align: top;\n",
       "    }\n",
       "\n",
       "    .dataframe thead th {\n",
       "        text-align: right;\n",
       "    }\n",
       "</style>\n",
       "<table border=\"1\" class=\"dataframe\">\n",
       "  <thead>\n",
       "    <tr style=\"text-align: right;\">\n",
       "      <th></th>\n",
       "      <th>fare_amount</th>\n",
       "      <th>dia</th>\n",
       "      <th>hora</th>\n",
       "      <th>distancia</th>\n",
       "    </tr>\n",
       "  </thead>\n",
       "  <tbody>\n",
       "    <tr>\n",
       "      <th>0</th>\n",
       "      <td>4.5</td>\n",
       "      <td>0.0</td>\n",
       "      <td>17.0</td>\n",
       "      <td>0.641024</td>\n",
       "    </tr>\n",
       "    <tr>\n",
       "      <th>1</th>\n",
       "      <td>16.9</td>\n",
       "      <td>1.0</td>\n",
       "      <td>16.0</td>\n",
       "      <td>5.275538</td>\n",
       "    </tr>\n",
       "    <tr>\n",
       "      <th>2</th>\n",
       "      <td>5.7</td>\n",
       "      <td>3.0</td>\n",
       "      <td>0.0</td>\n",
       "      <td>0.872636</td>\n",
       "    </tr>\n",
       "    <tr>\n",
       "      <th>3</th>\n",
       "      <td>7.7</td>\n",
       "      <td>5.0</td>\n",
       "      <td>4.0</td>\n",
       "      <td>1.738444</td>\n",
       "    </tr>\n",
       "    <tr>\n",
       "      <th>4</th>\n",
       "      <td>5.3</td>\n",
       "      <td>1.0</td>\n",
       "      <td>7.0</td>\n",
       "      <td>1.253707</td>\n",
       "    </tr>\n",
       "  </tbody>\n",
       "</table>\n",
       "</div>"
      ],
      "text/plain": [
       "   fare_amount  dia  hora  distancia\n",
       "0          4.5  0.0  17.0   0.641024\n",
       "1         16.9  1.0  16.0   5.275538\n",
       "2          5.7  3.0   0.0   0.872636\n",
       "3          7.7  5.0   4.0   1.738444\n",
       "4          5.3  1.0   7.0   1.253707"
      ]
     },
     "execution_count": 2,
     "metadata": {},
     "output_type": "execute_result"
    }
   ],
   "source": [
    "# Descarte de variáveis não importantes\n",
    "df = df.drop(['key'], axis=1)\n",
    "\n",
    "# Remoção das linhas com zero passageiros\n",
    "df = df[df['passenger_count'] >= 1]\n",
    "\n",
    "# Criando novas colunas de dados a partir das informações contidas em outras colunas\n",
    "for i, row in df.iterrows():\n",
    "    dt = row['pickup_datetime']\n",
    "    df.at[i, 'dia'] = dt.weekday()\n",
    "    df.at[i, 'hora'] = dt.hour\n",
    "    x = (row['dropoff_longitude'] - row['pickup_longitude']) * 54.6 # 1 grau == 54.6 milhas\n",
    "    y = (row['dropoff_latitude'] - row['pickup_latitude']) * 69.0   # 1 grau == 69 milhas\n",
    "    distance = sqrt(x**2 + y**2)\n",
    "    df.at[i, 'distancia'] = distance\n",
    "    \n",
    "# Eliminação das colunas que já não são necessárias\n",
    "df.drop(columns=['pickup_datetime', 'pickup_longitude', 'pickup_latitude', 'dropoff_longitude', 'dropoff_latitude', 'passenger_count' ], inplace=True)\n",
    "    \n",
    "# Aplicando limites razoáveis às tarifas e distâncias, com base na detecção de outliers\n",
    "df = df[(df['distancia'] > 0) & (df['distancia'] < 10)]\n",
    "df = df[(df['fare_amount'] > 3) & (df['fare_amount'] < 45)]\n",
    "\n",
    "df.head()\n"
   ]
  },
  {
   "cell_type": "markdown",
   "metadata": {},
   "source": [
    "- O conjunto de dados resultante possui colunas que representam o dia da semana (variando de 0 a 6, onde 0 corresponde a segunda-feira), a hora do dia (variando de 0 a 23) e a distância percorrida em milhas. "
   ]
  },
  {
   "cell_type": "markdown",
   "metadata": {},
   "source": [
    "## 4. Modelo de regressão com Keras"
   ]
  },
  {
   "cell_type": "markdown",
   "metadata": {},
   "source": [
    "- Iremos construir um modelo com duas camadas ocultas, cada uma contendo 512 neurônios, e uma camada de entrada que aceita três valores (distância, dia da semana e hora do dia). Dado que o objetivo do modelo é prever o valor da tarifa, a camada de saída será composta por um único neurônio."
   ]
  },
  {
   "cell_type": "code",
   "execution_count": 3,
   "metadata": {
    "colab": {
     "base_uri": "https://localhost:8080/"
    },
    "id": "igiNVXF4VNai",
    "outputId": "898e8e0a-c040-43d3-c123-934d11f0ea02"
   },
   "outputs": [
    {
     "name": "stdout",
     "output_type": "stream",
     "text": [
      "Model: \"sequential\"\n",
      "_________________________________________________________________\n",
      " Layer (type)                Output Shape              Param #   \n",
      "=================================================================\n",
      " dense (Dense)               (None, 512)               2048      \n",
      "                                                                 \n",
      " dense_1 (Dense)             (None, 512)               262656    \n",
      "                                                                 \n",
      " dense_2 (Dense)             (None, 1)                 513       \n",
      "                                                                 \n",
      "=================================================================\n",
      "Total params: 265,217\n",
      "Trainable params: 265,217\n",
      "Non-trainable params: 0\n",
      "_________________________________________________________________\n"
     ]
    }
   ],
   "source": [
    "from tensorflow.keras.models import Sequential\n",
    "from tensorflow.keras.layers import Dense\n",
    "\n",
    "# Construção da arquitetura da rede\n",
    "model = Sequential()\n",
    "model.add(Dense(512, activation='relu', input_dim=3))\n",
    "model.add(Dense(512, activation='relu'))\n",
    "model.add(Dense(1))\n",
    "\n",
    "# Definição do otimizador e da função de perda\n",
    "model.compile(optimizer='adam', loss='mae', metrics=['mae'])\n",
    "\n",
    "# Resumo da rede\n",
    "model.summary()"
   ]
  },
  {
   "cell_type": "markdown",
   "metadata": {},
   "source": [
    "## Definição do Mini-Batch, e ajuste do modelo"
   ]
  },
  {
   "cell_type": "markdown",
   "metadata": {},
   "source": [
    "- Estabelecemos a proporção de validação (validation_split) em 0,3, reservando assim  30% dos dados de treinamento para fins de validação. O treinamento do modelo ocorre ao longo de 100 épocas, com um tamanho de lote (batch size) de 100."
   ]
  },
  {
   "cell_type": "code",
   "execution_count": 4,
   "metadata": {
    "colab": {
     "base_uri": "https://localhost:8080/"
    },
    "id": "xsAxrDlmVdIc",
    "outputId": "ba1dcc92-8e4a-41c5-bd6f-91082c0479bf"
   },
   "outputs": [
    {
     "name": "stdout",
     "output_type": "stream",
     "text": [
      "Epoch 1/100\n",
      "980/980 [==============================] - 12s 12ms/step - loss: 2.0578 - mae: 2.0578 - val_loss: 1.9866 - val_mae: 1.9866\n",
      "Epoch 2/100\n",
      "980/980 [==============================] - 11s 11ms/step - loss: 1.9558 - mae: 1.9558 - val_loss: 1.9331 - val_mae: 1.9331\n",
      "Epoch 3/100\n",
      "980/980 [==============================] - 11s 11ms/step - loss: 1.9440 - mae: 1.9440 - val_loss: 1.9436 - val_mae: 1.9436\n",
      "Epoch 4/100\n",
      "980/980 [==============================] - 11s 11ms/step - loss: 1.9388 - mae: 1.9388 - val_loss: 1.9324 - val_mae: 1.9324\n",
      "Epoch 5/100\n",
      "980/980 [==============================] - 11s 11ms/step - loss: 1.9334 - mae: 1.9334 - val_loss: 1.9327 - val_mae: 1.9327\n",
      "Epoch 6/100\n",
      "980/980 [==============================] - 11s 11ms/step - loss: 1.9291 - mae: 1.9291 - val_loss: 1.9143 - val_mae: 1.9143\n",
      "Epoch 7/100\n",
      "980/980 [==============================] - 11s 12ms/step - loss: 1.9249 - mae: 1.9249 - val_loss: 1.9133 - val_mae: 1.9133\n",
      "Epoch 8/100\n",
      "980/980 [==============================] - 11s 12ms/step - loss: 1.9187 - mae: 1.9187 - val_loss: 1.9358 - val_mae: 1.9358\n",
      "Epoch 9/100\n",
      "980/980 [==============================] - 11s 12ms/step - loss: 1.9173 - mae: 1.9173 - val_loss: 1.9161 - val_mae: 1.9161\n",
      "Epoch 10/100\n",
      "980/980 [==============================] - 11s 12ms/step - loss: 1.9099 - mae: 1.9099 - val_loss: 1.9851 - val_mae: 1.9851\n",
      "Epoch 11/100\n",
      "980/980 [==============================] - 11s 12ms/step - loss: 1.9054 - mae: 1.9054 - val_loss: 1.9049 - val_mae: 1.9049\n",
      "Epoch 12/100\n",
      "980/980 [==============================] - 11s 12ms/step - loss: 1.9003 - mae: 1.9003 - val_loss: 1.8995 - val_mae: 1.8995\n",
      "Epoch 13/100\n",
      "980/980 [==============================] - 11s 11ms/step - loss: 1.8965 - mae: 1.8965 - val_loss: 1.9089 - val_mae: 1.9089\n",
      "Epoch 14/100\n",
      "980/980 [==============================] - 11s 11ms/step - loss: 1.8945 - mae: 1.8945 - val_loss: 1.9215 - val_mae: 1.9215\n",
      "Epoch 15/100\n",
      "980/980 [==============================] - 11s 11ms/step - loss: 1.8953 - mae: 1.8953 - val_loss: 1.8928 - val_mae: 1.8928\n",
      "Epoch 16/100\n",
      "980/980 [==============================] - 11s 11ms/step - loss: 1.8932 - mae: 1.8932 - val_loss: 1.8895 - val_mae: 1.8895\n",
      "Epoch 17/100\n",
      "980/980 [==============================] - 11s 11ms/step - loss: 1.8898 - mae: 1.8898 - val_loss: 1.9181 - val_mae: 1.9181\n",
      "Epoch 18/100\n",
      "980/980 [==============================] - 11s 11ms/step - loss: 1.8889 - mae: 1.8889 - val_loss: 1.8842 - val_mae: 1.8842\n",
      "Epoch 19/100\n",
      "980/980 [==============================] - 11s 11ms/step - loss: 1.8877 - mae: 1.8877 - val_loss: 1.8896 - val_mae: 1.8896\n",
      "Epoch 20/100\n",
      "980/980 [==============================] - 11s 11ms/step - loss: 1.8880 - mae: 1.8880 - val_loss: 1.9414 - val_mae: 1.9414\n",
      "Epoch 21/100\n",
      "980/980 [==============================] - 11s 11ms/step - loss: 1.8836 - mae: 1.8836 - val_loss: 1.8851 - val_mae: 1.8851\n",
      "Epoch 22/100\n",
      "980/980 [==============================] - 11s 11ms/step - loss: 1.8825 - mae: 1.8825 - val_loss: 1.8812 - val_mae: 1.8812\n",
      "Epoch 23/100\n",
      "980/980 [==============================] - 11s 11ms/step - loss: 1.8838 - mae: 1.8838 - val_loss: 1.8848 - val_mae: 1.8848\n",
      "Epoch 24/100\n",
      "980/980 [==============================] - 11s 11ms/step - loss: 1.8818 - mae: 1.8818 - val_loss: 1.8923 - val_mae: 1.8923\n",
      "Epoch 25/100\n",
      "980/980 [==============================] - 11s 12ms/step - loss: 1.8836 - mae: 1.8836 - val_loss: 1.8808 - val_mae: 1.8808\n",
      "Epoch 26/100\n",
      "980/980 [==============================] - 12s 12ms/step - loss: 1.8824 - mae: 1.8824 - val_loss: 1.9063 - val_mae: 1.9063\n",
      "Epoch 27/100\n",
      "980/980 [==============================] - 11s 11ms/step - loss: 1.8829 - mae: 1.8829 - val_loss: 1.8839 - val_mae: 1.8839\n",
      "Epoch 28/100\n",
      "980/980 [==============================] - 12s 12ms/step - loss: 1.8806 - mae: 1.8806 - val_loss: 1.8902 - val_mae: 1.8902\n",
      "Epoch 29/100\n",
      "980/980 [==============================] - 13s 13ms/step - loss: 1.8818 - mae: 1.8818 - val_loss: 1.8882 - val_mae: 1.8882\n",
      "Epoch 30/100\n",
      "980/980 [==============================] - 11s 11ms/step - loss: 1.8797 - mae: 1.8797 - val_loss: 1.8972 - val_mae: 1.8972\n",
      "Epoch 31/100\n",
      "980/980 [==============================] - 15s 15ms/step - loss: 1.8795 - mae: 1.8795 - val_loss: 1.9103 - val_mae: 1.9103\n",
      "Epoch 32/100\n",
      "980/980 [==============================] - 13s 14ms/step - loss: 1.8804 - mae: 1.8804 - val_loss: 1.8960 - val_mae: 1.8960\n",
      "Epoch 33/100\n",
      "980/980 [==============================] - 17s 18ms/step - loss: 1.8823 - mae: 1.8823 - val_loss: 1.8808 - val_mae: 1.8808\n",
      "Epoch 34/100\n",
      "980/980 [==============================] - 12s 12ms/step - loss: 1.8808 - mae: 1.8808 - val_loss: 1.8845 - val_mae: 1.8845\n",
      "Epoch 35/100\n",
      "980/980 [==============================] - 11s 12ms/step - loss: 1.8784 - mae: 1.8784 - val_loss: 1.9168 - val_mae: 1.9168\n",
      "Epoch 36/100\n",
      "980/980 [==============================] - 11s 11ms/step - loss: 1.8793 - mae: 1.8793 - val_loss: 1.8807 - val_mae: 1.8807\n",
      "Epoch 37/100\n",
      "980/980 [==============================] - 11s 11ms/step - loss: 1.8790 - mae: 1.8790 - val_loss: 1.8878 - val_mae: 1.8878\n",
      "Epoch 38/100\n",
      "980/980 [==============================] - 12s 12ms/step - loss: 1.8764 - mae: 1.8764 - val_loss: 1.8910 - val_mae: 1.8910\n",
      "Epoch 39/100\n",
      "980/980 [==============================] - 11s 12ms/step - loss: 1.8790 - mae: 1.8790 - val_loss: 1.8919 - val_mae: 1.8919\n",
      "Epoch 40/100\n",
      "980/980 [==============================] - 11s 11ms/step - loss: 1.8753 - mae: 1.8753 - val_loss: 1.8874 - val_mae: 1.8874\n",
      "Epoch 41/100\n",
      "980/980 [==============================] - 10s 11ms/step - loss: 1.8768 - mae: 1.8768 - val_loss: 1.9088 - val_mae: 1.9088\n",
      "Epoch 42/100\n",
      "980/980 [==============================] - 10s 11ms/step - loss: 1.8749 - mae: 1.8749 - val_loss: 1.9098 - val_mae: 1.9098\n",
      "Epoch 43/100\n",
      "980/980 [==============================] - 11s 11ms/step - loss: 1.8786 - mae: 1.8786 - val_loss: 1.8825 - val_mae: 1.8825\n",
      "Epoch 44/100\n",
      "980/980 [==============================] - 11s 11ms/step - loss: 1.8765 - mae: 1.8765 - val_loss: 1.8938 - val_mae: 1.8938\n",
      "Epoch 45/100\n",
      "980/980 [==============================] - 12s 13ms/step - loss: 1.8780 - mae: 1.8780 - val_loss: 1.8876 - val_mae: 1.8876\n",
      "Epoch 46/100\n",
      "980/980 [==============================] - 12s 12ms/step - loss: 1.8769 - mae: 1.8769 - val_loss: 1.8865 - val_mae: 1.8865\n",
      "Epoch 47/100\n",
      "980/980 [==============================] - 13s 14ms/step - loss: 1.8774 - mae: 1.8774 - val_loss: 1.9017 - val_mae: 1.9017\n",
      "Epoch 48/100\n",
      "980/980 [==============================] - 13s 13ms/step - loss: 1.8756 - mae: 1.8756 - val_loss: 1.8988 - val_mae: 1.8988\n",
      "Epoch 49/100\n",
      "980/980 [==============================] - 13s 13ms/step - loss: 1.8751 - mae: 1.8751 - val_loss: 1.8924 - val_mae: 1.8924\n",
      "Epoch 50/100\n",
      "980/980 [==============================] - 12s 12ms/step - loss: 1.8745 - mae: 1.8745 - val_loss: 1.8914 - val_mae: 1.8914\n",
      "Epoch 51/100\n",
      "980/980 [==============================] - 12s 13ms/step - loss: 1.8757 - mae: 1.8757 - val_loss: 1.8976 - val_mae: 1.8976\n",
      "Epoch 52/100\n",
      "980/980 [==============================] - 11s 11ms/step - loss: 1.8736 - mae: 1.8736 - val_loss: 1.8796 - val_mae: 1.8796\n",
      "Epoch 53/100\n",
      "980/980 [==============================] - 12s 12ms/step - loss: 1.8750 - mae: 1.8750 - val_loss: 1.8991 - val_mae: 1.8991\n",
      "Epoch 54/100\n",
      "980/980 [==============================] - 11s 11ms/step - loss: 1.8738 - mae: 1.8738 - val_loss: 1.8768 - val_mae: 1.8768\n",
      "Epoch 55/100\n",
      "980/980 [==============================] - 13s 13ms/step - loss: 1.8740 - mae: 1.8740 - val_loss: 1.8914 - val_mae: 1.8914\n",
      "Epoch 56/100\n",
      "980/980 [==============================] - 12s 13ms/step - loss: 1.8753 - mae: 1.8753 - val_loss: 1.8795 - val_mae: 1.8795\n",
      "Epoch 57/100\n",
      "980/980 [==============================] - 12s 13ms/step - loss: 1.8718 - mae: 1.8718 - val_loss: 1.8787 - val_mae: 1.8787\n",
      "Epoch 58/100\n",
      "980/980 [==============================] - 12s 12ms/step - loss: 1.8730 - mae: 1.8730 - val_loss: 1.8913 - val_mae: 1.8913\n",
      "Epoch 59/100\n",
      "980/980 [==============================] - 10s 11ms/step - loss: 1.8733 - mae: 1.8733 - val_loss: 1.8774 - val_mae: 1.8774\n",
      "Epoch 60/100\n",
      "980/980 [==============================] - 10s 11ms/step - loss: 1.8727 - mae: 1.8727 - val_loss: 1.8941 - val_mae: 1.8941\n",
      "Epoch 61/100\n",
      "980/980 [==============================] - 11s 11ms/step - loss: 1.8722 - mae: 1.8722 - val_loss: 1.8782 - val_mae: 1.8782\n",
      "Epoch 62/100\n",
      "980/980 [==============================] - 11s 11ms/step - loss: 1.8720 - mae: 1.8720 - val_loss: 1.8824 - val_mae: 1.8824\n",
      "Epoch 63/100\n",
      "980/980 [==============================] - 13s 13ms/step - loss: 1.8743 - mae: 1.8743 - val_loss: 1.8825 - val_mae: 1.8825\n",
      "Epoch 64/100\n",
      "980/980 [==============================] - 14s 15ms/step - loss: 1.8726 - mae: 1.8726 - val_loss: 1.8826 - val_mae: 1.8826\n",
      "Epoch 65/100\n",
      "980/980 [==============================] - 12s 12ms/step - loss: 1.8713 - mae: 1.8713 - val_loss: 1.9015 - val_mae: 1.9015\n",
      "Epoch 66/100\n",
      "980/980 [==============================] - 10s 11ms/step - loss: 1.8734 - mae: 1.8734 - val_loss: 1.8785 - val_mae: 1.8785\n",
      "Epoch 67/100\n",
      "980/980 [==============================] - 10s 11ms/step - loss: 1.8715 - mae: 1.8715 - val_loss: 1.8772 - val_mae: 1.8772\n",
      "Epoch 68/100\n",
      "980/980 [==============================] - 10s 11ms/step - loss: 1.8707 - mae: 1.8707 - val_loss: 1.8829 - val_mae: 1.8829\n",
      "Epoch 69/100\n",
      "980/980 [==============================] - 10s 11ms/step - loss: 1.8720 - mae: 1.8720 - val_loss: 1.8969 - val_mae: 1.8969\n",
      "Epoch 70/100\n",
      "980/980 [==============================] - 10s 11ms/step - loss: 1.8712 - mae: 1.8712 - val_loss: 1.8825 - val_mae: 1.8825\n",
      "Epoch 71/100\n",
      "980/980 [==============================] - 10s 11ms/step - loss: 1.8707 - mae: 1.8707 - val_loss: 1.8800 - val_mae: 1.8800\n",
      "Epoch 72/100\n",
      "980/980 [==============================] - 10s 11ms/step - loss: 1.8725 - mae: 1.8725 - val_loss: 1.8866 - val_mae: 1.8866\n",
      "Epoch 73/100\n",
      "980/980 [==============================] - 10s 11ms/step - loss: 1.8699 - mae: 1.8699 - val_loss: 1.8764 - val_mae: 1.8764\n",
      "Epoch 74/100\n",
      "980/980 [==============================] - 10s 11ms/step - loss: 1.8715 - mae: 1.8715 - val_loss: 1.8963 - val_mae: 1.8963\n",
      "Epoch 75/100\n",
      "980/980 [==============================] - 10s 11ms/step - loss: 1.8700 - mae: 1.8700 - val_loss: 1.8883 - val_mae: 1.8883\n",
      "Epoch 76/100\n",
      "980/980 [==============================] - 10s 11ms/step - loss: 1.8707 - mae: 1.8707 - val_loss: 1.8758 - val_mae: 1.8758\n",
      "Epoch 77/100\n",
      "980/980 [==============================] - 10s 11ms/step - loss: 1.8710 - mae: 1.8710 - val_loss: 1.8864 - val_mae: 1.8864\n",
      "Epoch 78/100\n",
      "980/980 [==============================] - 10s 11ms/step - loss: 1.8719 - mae: 1.8719 - val_loss: 1.8863 - val_mae: 1.8863\n",
      "Epoch 79/100\n",
      "980/980 [==============================] - 10s 11ms/step - loss: 1.8714 - mae: 1.8714 - val_loss: 1.8769 - val_mae: 1.8769\n",
      "Epoch 80/100\n",
      "980/980 [==============================] - 11s 11ms/step - loss: 1.8695 - mae: 1.8695 - val_loss: 1.8835 - val_mae: 1.8835\n",
      "Epoch 81/100\n",
      "980/980 [==============================] - 10s 11ms/step - loss: 1.8698 - mae: 1.8698 - val_loss: 1.8795 - val_mae: 1.8795\n",
      "Epoch 82/100\n",
      "980/980 [==============================] - 10s 11ms/step - loss: 1.8721 - mae: 1.8721 - val_loss: 1.8772 - val_mae: 1.8772\n",
      "Epoch 83/100\n",
      "980/980 [==============================] - 10s 11ms/step - loss: 1.8693 - mae: 1.8693 - val_loss: 1.8765 - val_mae: 1.8765\n",
      "Epoch 84/100\n",
      "980/980 [==============================] - 11s 11ms/step - loss: 1.8686 - mae: 1.8686 - val_loss: 1.8783 - val_mae: 1.8783\n",
      "Epoch 85/100\n",
      "980/980 [==============================] - 10s 11ms/step - loss: 1.8702 - mae: 1.8702 - val_loss: 1.8764 - val_mae: 1.8764\n",
      "Epoch 86/100\n",
      "980/980 [==============================] - 10s 11ms/step - loss: 1.8689 - mae: 1.8689 - val_loss: 1.8912 - val_mae: 1.8912\n",
      "Epoch 87/100\n",
      "980/980 [==============================] - 10s 11ms/step - loss: 1.8708 - mae: 1.8708 - val_loss: 1.8789 - val_mae: 1.8789\n",
      "Epoch 88/100\n",
      "980/980 [==============================] - 10s 11ms/step - loss: 1.8703 - mae: 1.8703 - val_loss: 1.9020 - val_mae: 1.9020\n",
      "Epoch 89/100\n",
      "980/980 [==============================] - 10s 10ms/step - loss: 1.8695 - mae: 1.8695 - val_loss: 1.8746 - val_mae: 1.8746\n",
      "Epoch 90/100\n",
      "980/980 [==============================] - 10s 10ms/step - loss: 1.8699 - mae: 1.8699 - val_loss: 1.8844 - val_mae: 1.8844\n",
      "Epoch 91/100\n",
      "980/980 [==============================] - 10s 10ms/step - loss: 1.8677 - mae: 1.8677 - val_loss: 1.9054 - val_mae: 1.9054\n",
      "Epoch 92/100\n",
      "980/980 [==============================] - 10s 10ms/step - loss: 1.8694 - mae: 1.8694 - val_loss: 1.8878 - val_mae: 1.8878\n",
      "Epoch 93/100\n",
      "980/980 [==============================] - 10s 10ms/step - loss: 1.8688 - mae: 1.8688 - val_loss: 1.8810 - val_mae: 1.8810\n",
      "Epoch 94/100\n",
      "980/980 [==============================] - 10s 10ms/step - loss: 1.8689 - mae: 1.8689 - val_loss: 1.8790 - val_mae: 1.8790\n",
      "Epoch 95/100\n",
      "980/980 [==============================] - 10s 10ms/step - loss: 1.8682 - mae: 1.8682 - val_loss: 1.8812 - val_mae: 1.8812\n",
      "Epoch 96/100\n",
      "980/980 [==============================] - 10s 10ms/step - loss: 1.8680 - mae: 1.8680 - val_loss: 1.8819 - val_mae: 1.8819\n",
      "Epoch 97/100\n",
      "980/980 [==============================] - 10s 10ms/step - loss: 1.8678 - mae: 1.8678 - val_loss: 1.8782 - val_mae: 1.8782\n",
      "Epoch 98/100\n",
      "980/980 [==============================] - 10s 10ms/step - loss: 1.8687 - mae: 1.8687 - val_loss: 1.8758 - val_mae: 1.8758\n",
      "Epoch 99/100\n",
      "980/980 [==============================] - 11s 11ms/step - loss: 1.8689 - mae: 1.8689 - val_loss: 1.8764 - val_mae: 1.8764\n",
      "Epoch 100/100\n",
      "980/980 [==============================] - 11s 11ms/step - loss: 1.8696 - mae: 1.8696 - val_loss: 1.8825 - val_mae: 1.8825\n"
     ]
    }
   ],
   "source": [
    "x = df.drop('fare_amount', axis=1)\n",
    "y = df['fare_amount']\n",
    "\n",
    "hist = model.fit(x, y, validation_split=0.3, epochs=100, batch_size=100)"
   ]
  },
  {
   "cell_type": "markdown",
   "metadata": {},
   "source": [
    "## Gráfico da Precisão de Treinamento e Precisão de Validação ao Longo do Tempo"
   ]
  },
  {
   "cell_type": "code",
   "execution_count": 5,
   "metadata": {
    "colab": {
     "base_uri": "https://localhost:8080/",
     "height": 497
    },
    "id": "wLzYxSA7VpOg",
    "outputId": "f5fe6c28-1916-4fc5-a329-88b5f19b5e9c"
   },
   "outputs": [
    {
     "data": {
      "text/plain": [
       "[]"
      ]
     },
     "execution_count": 5,
     "metadata": {},
     "output_type": "execute_result"
    },
    {
     "data": {
      "image/png": "[encoded data removed]",
      "text/plain": [
       "<Figure size 864x432 with 1 Axes>"
      ]
     },
     "metadata": {},
     "output_type": "display_data"
    }
   ],
   "source": [
    "%matplotlib inline\n",
    "import matplotlib.pyplot as plt\n",
    "import seaborn as sns\n",
    "sns.set()\n",
    "\n",
    "err = hist.history['mae']\n",
    "val_err = hist.history['val_mae']\n",
    "epochs = range(1, len(err) + 1)\n",
    "\n",
    "plt.figure(figsize=(12,6))\n",
    "plt.plot(epochs, err, '-', label='Treinamento MAE')\n",
    "plt.plot(epochs, val_err, ':', label='Validação MAE')\n",
    "plt.title('Precisão de treinamento e validação')\n",
    "plt.xlabel('Epoch')\n",
    "plt.ylabel('MAE')\n",
    "plt.legend(loc='upper right')\n",
    "plt.plot()"
   ]
  },
  {
   "cell_type": "markdown",
   "metadata": {},
   "source": [
    "- A validação final resultou em um Erro Absoluto Médio (MAE) de aproximadamente 1,85, o que indica que, em média, as estimativas de tarifas de táxi feitas por esta rede devem ter uma precisão de cerca de 1,85 dólares."
   ]
  },
  {
   "cell_type": "markdown",
   "metadata": {},
   "source": [
    "## Calculando Métricas de Avaliação"
   ]
  },
  {
   "cell_type": "code",
   "execution_count": 6,
   "metadata": {},
   "outputs": [
    {
     "name": "stdout",
     "output_type": "stream",
     "text": [
      "4374/4374 [==============================] - 12s 3ms/step\n",
      "4374/4374 [==============================] - 12s 3ms/step\n",
      "O valor do MAE foi de 1.8711 dólares\n",
      "O valor do RMSE foi de 3.0543 dólares\n"
     ]
    }
   ],
   "source": [
    "from sklearn.metrics import mean_squared_error, mean_absolute_error\n",
    "\n",
    "MAE = mean_absolute_error(y, model.predict(x))\n",
    "RMSE = mean_squared_error(y, model.predict(x))**0.5\n",
    "\n",
    "print(f\"O valor do MAE foi de {MAE:.4f} dólares\")\n",
    "print(f\"O valor do RMSE foi de {RMSE:.4f} dólares\")"
   ]
  },
  {
   "cell_type": "markdown",
   "metadata": {},
   "source": [
    "- O modelo está errando mais ou menos 3.05 dólares e 1.87 dólares em termos absolutos."
   ]
  },
  {
   "cell_type": "markdown",
   "metadata": {},
   "source": [
    "## Utilizando o modelo para prever os valores das tarifas"
   ]
  },
  {
   "cell_type": "code",
   "execution_count": 7,
   "metadata": {},
   "outputs": [
    {
     "name": "stdout",
     "output_type": "stream",
     "text": [
      "1/1 [==============================] - 0s 64ms/step\n"
     ]
    },
    {
     "data": {
      "text/plain": [
       "array([[13.484056]], dtype=float32)"
      ]
     },
     "execution_count": 7,
     "metadata": {},
     "output_type": "execute_result"
    }
   ],
   "source": [
    "# Prevendo o valor da tarifa para uma viagem de 3 milhas feita às 16:00 no dia sábado\n",
    "\n",
    "model.predict(np.array([[5, 16, 3.0]]))"
   ]
  },
  {
   "cell_type": "markdown",
   "metadata": {},
   "source": [
    "- O custo de uma viagem de 3 milhas realizada às 16:00 horas de um sábado foi aproximadamente de 13 dólares."
   ]
  },
  {
   "cell_type": "code",
   "execution_count": 8,
   "metadata": {},
   "outputs": [
    {
     "name": "stdout",
     "output_type": "stream",
     "text": [
      "1/1 [==============================] - 0s 25ms/step\n"
     ]
    },
    {
     "data": {
      "text/plain": [
       "array([[27.434412]], dtype=float32)"
      ]
     },
     "execution_count": 8,
     "metadata": {},
     "output_type": "execute_result"
    }
   ],
   "source": [
    "# Prevendo o valor da tarifa para uma viagem de 8 milhas feita às 11:00 a.m. na segunda-feira\n",
    "\n",
    "model.predict(np.array([[11, 11, 8.0]]))\n"
   ]
  },
  {
   "cell_type": "markdown",
   "metadata": {
    "id": "4A2sZcEOtb6e"
   },
   "source": [
    "## 5. Conclusão"
   ]
  },
  {
   "cell_type": "markdown",
   "metadata": {},
   "source": [
    "- O modelo atingiu um desempenho consistente, com pouca variação no Erro Absoluto Médio (MAE) tanto no conjunto de treinamento quanto no conjunto de validação. O modelo está errando mais ou menos 3.05 dólares e 1.87 dólares em termos absolutos.\n",
    "\n",
    "\n",
    "- É possível realizar a normalização das features e  modificar o número de neurônios, adicionar mais camadas ocultas ou aumentar o número de épocas, que podem ser testadas para ver o impacto no desempenho do modelo. "
   ]
  },
  {
   "cell_type": "code",
   "execution_count": null,
   "metadata": {},
   "outputs": [],
   "source": []
  }
 ],
 "metadata": {
  "colab": {
   "provenance": []
  },
  "kernelspec": {
   "display_name": "Python 3 (ipykernel)",
   "language": "python",
   "name": "python3"
  },
  "language_info": {
   "codemirror_mode": {
    "name": "ipython",
    "version": 3
   },
   "file_extension": ".py",
   "mimetype": "text/x-python",
   "name": "python",
   "nbconvert_exporter": "python",
   "pygments_lexer": "ipython3",
   "version": "3.9.7"
  }
 },
 "nbformat": 4,
 "nbformat_minor": 1
}
